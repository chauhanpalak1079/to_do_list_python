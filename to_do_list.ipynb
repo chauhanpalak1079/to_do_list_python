{
 "cells": [
  {
   "cell_type": "code",
   "execution_count": null,
   "id": "8241d031-8fb0-43a1-8834-d5ce4ae7b492",
   "metadata": {},
   "outputs": [
    {
     "name": "stdout",
     "output_type": "stream",
     "text": [
      "\n",
      "To-Do List Application\n",
      "1. View Tasks\n",
      "2. Add Task\n",
      "3. Remove Task\n",
      "4. Exit\n"
     ]
    }
   ],
   "source": [
    "\n",
    "#start by an empty list\n",
    "tasks = []\n",
    "\n",
    "# Function to display the menu\n",
    "def show_menu():\n",
    "    print(\"\\nTo-Do List Application\")\n",
    "    print(\"1. View Tasks\")\n",
    "    print(\"2. Add Task\")\n",
    "    print(\"3. Remove Task\")\n",
    "    print(\"4. Exit\")\n",
    "\n",
    "# Function to view tasks\n",
    "def view_tasks():\n",
    "    if not tasks:\n",
    "        print(\"\\nNo tasks in the list.\")\n",
    "    else:\n",
    "        print(\"\\nTasks:\")\n",
    "        for idx, task in enumerate(tasks, start=1):\n",
    "            print(f\"{idx}. {task}\")\n",
    "\n",
    "# Function to add a task\n",
    "def add_task():\n",
    "    task = input(\"\\nEnter a new task: \")\n",
    "    tasks.append(task)\n",
    "    print(f\"Task '{task}' added.\")\n",
    "\n",
    "# Function to remove a task\n",
    "def remove_task():\n",
    "    try:\n",
    "        task_num = int(input(\"\\nEnter the task number to remove: \"))\n",
    "        if 1 <= task_num <= len(tasks):\n",
    "            removed_task = tasks.pop(task_num - 1)\n",
    "            print(f\"Task '{removed_task}' removed.\")\n",
    "        else:\n",
    "            print(\"Invalid task number.\")\n",
    "    except ValueError:\n",
    "        print(\"Please enter a valid number.\")\n",
    "\n",
    "\n",
    "\n",
    "# Main function to run the application\n",
    "def main():\n",
    "    while True:\n",
    "        show_menu()\n",
    "        choice = input(\"\\nEnter your choice: \")\n",
    "        if choice == '1':\n",
    "            view_tasks()\n",
    "        elif choice == '2':\n",
    "            add_task()\n",
    "        elif choice == '3':\n",
    "            remove_task()\n",
    "        elif choice == '4':\n",
    "            print(\"Exiting the application. Goodbye!\")\n",
    "            break\n",
    "        else:\n",
    "            print(\"Invalid choice. Please select a valid option.\")\n",
    "\n",
    "if __name__ == \"__main__\":\n",
    "    main()\n"
   ]
  },
  {
   "cell_type": "code",
   "execution_count": null,
   "id": "bb1a0fd5-e80d-40c3-8f87-707df55a5357",
   "metadata": {},
   "outputs": [],
   "source": []
  }
 ],
 "metadata": {
  "kernelspec": {
   "display_name": "Python 3 (ipykernel)",
   "language": "python",
   "name": "python3"
  },
  "language_info": {
   "codemirror_mode": {
    "name": "ipython",
    "version": 3
   },
   "file_extension": ".py",
   "mimetype": "text/x-python",
   "name": "python",
   "nbconvert_exporter": "python",
   "pygments_lexer": "ipython3",
   "version": "3.10.2"
  }
 },
 "nbformat": 4,
 "nbformat_minor": 5
}
